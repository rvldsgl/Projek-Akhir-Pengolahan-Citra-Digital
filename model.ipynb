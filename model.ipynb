{
 "cells": [
  {
   "cell_type": "code",
   "execution_count": 24,
   "metadata": {},
   "outputs": [
    {
     "data": {
      "text/plain": [
       "True"
      ]
     },
     "execution_count": 24,
     "metadata": {},
     "output_type": "execute_result"
    }
   ],
   "source": [
    "import cv2\n",
    "import numpy as np\n",
    "\n",
    "image = cv2.imread(\"0_15_hr_png_jpg.rf.10dcf4db9cf5ceaa4277ec2465083fff.jpg\")\n",
    "cv2.imwrite(\"converted_image.jpg\", image)  # Simpan ulang dengan format standar\n"
   ]
  },
  {
   "cell_type": "markdown",
   "metadata": {},
   "source": [
    "## 1. Object Tracking (YOLO)"
   ]
  },
  {
   "cell_type": "code",
   "execution_count": 25,
   "metadata": {},
   "outputs": [
    {
     "name": "stdout",
     "output_type": "stream",
     "text": [
      "\n",
      "image 1/1 e:\\02_CODE\\PYTHON\\Kuliah\\PCD\\Projek Akhir\\license plate detection.v1i.yolov8\\converted_image.jpg: 800x800 1 LicensePlate, 17.2ms\n",
      "Speed: 5.3ms preprocess, 17.2ms inference, 2.2ms postprocess per image at shape (1, 3, 800, 800)\n",
      "Plat nomor 0 disimpan di cropped_plate_0.jpg\n"
     ]
    }
   ],
   "source": [
    "import cv2\n",
    "from ultralytics import YOLO\n",
    "\n",
    "# Load model YOLO\n",
    "model = YOLO(\"best.pt\")  # Ganti dengan model Anda\n",
    "\n",
    "# Prediksi pada gambar\n",
    "results = model.predict(source=\"converted_image.jpg\", conf=0.5, save=False)\n",
    "\n",
    "# Baca gambar asli\n",
    "image = cv2.imread(\"converted_image.jpg\")\n",
    "\n",
    "# Iterasi bounding box\n",
    "for i, result in enumerate(results):\n",
    "    for j, box in enumerate(result.boxes.xyxy):\n",
    "        x1, y1, x2, y2 = map(int, box)  # Koordinat bounding box\n",
    "        cropped_image = image[y1:y2, x1:x2]  # Crop area plat nomor\n",
    "\n",
    "        # Simpan hasil crop untuk debugging\n",
    "        crop_path = f\"cropped_plate_{j}.jpg\"\n",
    "        cv2.imwrite(crop_path, cropped_image)\n",
    "        print(f\"Plat nomor {j} disimpan di {crop_path}\")\n"
   ]
  },
  {
   "cell_type": "markdown",
   "metadata": {},
   "source": [
    "## 2. Image Denoising (Weighted Mean Filter)"
   ]
  },
  {
   "cell_type": "code",
   "execution_count": 26,
   "metadata": {},
   "outputs": [
    {
     "data": {
      "text/plain": [
       "True"
      ]
     },
     "execution_count": 26,
     "metadata": {},
     "output_type": "execute_result"
    }
   ],
   "source": [
    "# Baca gambar\n",
    "image = cv2.imread(\"cropped_plate_0.jpg\")\n",
    "\n",
    "# Konversi ke grayscale\n",
    "gray = cv2.cvtColor(image, cv2.COLOR_BGR2GRAY)\n",
    "\n",
    "# Fungsi untuk membuat kernel Gaussian\n",
    "def gaussian_kernel(size, sigma=1):\n",
    "   \n",
    "    kernel = np.zeros((size, size), dtype=np.float32)\n",
    "    k = size // 2\n",
    "    for x in range(-k, k + 1):\n",
    "        for y in range(-k, k + 1):\n",
    "            kernel[x + k, y + k] = (1 / (2 * np.pi * sigma**2)) * np.exp(-(x**2 + y**2) / (2 * sigma**2))\n",
    "    return kernel / kernel.sum()\n",
    "\n",
    "# Fungsi untuk melakukan convolusi\n",
    "def apply_convolution(image, kernel):\n",
    "   \n",
    "    h, w = image.shape\n",
    "    kh, kw = kernel.shape\n",
    "    pad_h, pad_w = kh // 2, kw // 2\n",
    "    \n",
    "    # Tambahkan padding ke gambar\n",
    "    padded_image = np.pad(image, ((pad_h, pad_h), (pad_w, pad_w)), mode='constant', constant_values=0)\n",
    "    \n",
    "    # Gambar hasil\n",
    "    output = np.zeros_like(image, dtype=np.float32)\n",
    "    \n",
    "    # Terapkan kernel\n",
    "    for i in range(h):\n",
    "        for j in range(w):\n",
    "            region = padded_image[i:i+kh, j:j+kw]\n",
    "            output[i, j] = np.sum(region * kernel)\n",
    "    \n",
    "    return np.clip(output, 0, 255).astype(np.uint8)\n",
    "\n",
    "# Baca gambar\n",
    "image = cv2.imread(\"cropped_plate_0.jpg\")\n",
    "\n",
    "# Konversi ke grayscale\n",
    "gray = cv2.cvtColor(image, cv2.COLOR_BGR2GRAY)\n",
    "\n",
    "# Buat kernel Gaussian 5x5 dengan sigma=1\n",
    "gaussian = gaussian_kernel(5, sigma=1)\n",
    "\n",
    "# Terapkan Gaussian Blur secara manual\n",
    "blurred_manual = apply_convolution(gray, gaussian)\n",
    "\n",
    "# Thresholding untuk membuat teks lebih jelas\n",
    "_, thresh = cv2.threshold(blurred_manual, 0, 255, cv2.THRESH_BINARY + cv2.THRESH_OTSU)\n",
    "\n",
    "# Simpan hasil preprocessing\n",
    "cv2.imwrite(\"preprocessed_plate_manual.jpg\", thresh)\n"
   ]
  },
  {
   "cell_type": "markdown",
   "metadata": {},
   "source": [
    "## 3. Super Resolusi Citra\n"
   ]
  },
  {
   "cell_type": "code",
   "execution_count": 27,
   "metadata": {},
   "outputs": [
    {
     "data": {
      "text/plain": [
       "True"
      ]
     },
     "execution_count": 27,
     "metadata": {},
     "output_type": "execute_result"
    }
   ],
   "source": [
    "# Tingkatkan kontras dengan CLAHE\n",
    "clahe = cv2.createCLAHE(clipLimit=2.0, tileGridSize=(8, 8))\n",
    "enhanced = clahe.apply(gray)\n",
    "\n",
    "# Peningkatan resolusi dengan interpolasi bicubic\n",
    "def upscale_image(image, scale_factor):\n",
    "    height, width = image.shape[:2]\n",
    "    new_width = width * scale_factor\n",
    "    new_height = height * scale_factor\n",
    "    upscaled = cv2.resize(image, (new_width, new_height), interpolation=cv2.INTER_CUBIC)\n",
    "    return upscaled\n",
    "\n",
    "# Terapkan sharpening untuk meningkatkan detail teks\n",
    "def sharpen_image(image):\n",
    "    kernel = np.array([[0, -1, 0],\n",
    "                       [-1, 5, -1],\n",
    "                       [0, -1, 0]], dtype=np.float32)\n",
    "    sharpened = cv2.filter2D(image, -1, kernel)\n",
    "    return sharpened\n",
    "\n",
    "upscaled = upscale_image(enhanced, scale_factor=4)\n",
    "\n",
    "# Sharpen gambar\n",
    "sharpened = sharpen_image(upscaled)\n",
    "\n",
    "# Simpan gambar dengan kontras tinggi\n",
    "cv2.imwrite(\"enhanced_plate.jpg\", sharpened)\n"
   ]
  },
  {
   "cell_type": "code",
   "execution_count": 28,
   "metadata": {},
   "outputs": [
    {
     "name": "stdout",
     "output_type": "stream",
     "text": [
      "Teks yang dikenali: ['WAE', '920']\n"
     ]
    }
   ],
   "source": [
    "import easyocr\n",
    "\n",
    "# Gunakan EasyOCR\n",
    "\n",
    "reader = easyocr.Reader(['en'])\n",
    "text = reader.readtext(\"enhanced_plate.jpg\", detail=0)\n",
    "print(\"Teks yang dikenali:\", text)\n"
   ]
  },
  {
   "cell_type": "markdown",
   "metadata": {},
   "source": [
    "\n"
   ]
  }
 ],
 "metadata": {
  "kernelspec": {
   "display_name": "Python 3",
   "language": "python",
   "name": "python3"
  },
  "language_info": {
   "codemirror_mode": {
    "name": "ipython",
    "version": 3
   },
   "file_extension": ".py",
   "mimetype": "text/x-python",
   "name": "python",
   "nbconvert_exporter": "python",
   "pygments_lexer": "ipython3",
   "version": "3.10.4"
  }
 },
 "nbformat": 4,
 "nbformat_minor": 2
}
